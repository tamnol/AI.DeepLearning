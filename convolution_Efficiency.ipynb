{
  "nbformat": 4,
  "nbformat_minor": 0,
  "metadata": {
    "colab": {
      "name": "Copy of Exercise 3 - Question.ipynb",
      "version": "0.3.2",
      "provenance": [],
      "collapsed_sections": [],
      "include_colab_link": true
    },
    "kernelspec": {
      "name": "python3",
      "display_name": "Python 3"
    },
    "accelerator": "GPU"
  },
  "cells": [
    {
      "cell_type": "markdown",
      "metadata": {
        "id": "view-in-github",
        "colab_type": "text"
      },
      "source": [
        "<a href=\"https://colab.research.google.com/github/tamnol/DeepLearning-AI/blob/master/convolution_Efficiency.ipynb\" target=\"_parent\"><img src=\"https://colab.research.google.com/assets/colab-badge.svg\" alt=\"Open In Colab\"/></a>"
      ]
    },
    {
      "cell_type": "markdown",
      "metadata": {
        "id": "iQjHqsmTAVLU",
        "colab_type": "text"
      },
      "source": [
        "## Exercise 3\n",
        "In the videos you looked at how you would improve Fashion MNIST using Convolutions. For your exercise see if you can improve MNIST to 99.8% accuracy or more using only a single convolutional layer and a single MaxPooling 2D. You should stop training once the accuracy goes above this amount. It should happen in less than 20 epochs, so it's ok to hard code the number of epochs for training, but your training must end once it hits the above metric. If it doesn't, then you'll need to redesign your layers.\n",
        "\n",
        "I've started the code for you -- you need to finish it!\n",
        "\n",
        "When 99.8% accuracy has been hit, you should print out the string \"Reached 99.8% accuracy so cancelling training!\"\n"
      ]
    },
    {
      "cell_type": "markdown",
      "metadata": {
        "id": "YKBrc4bTEL4Y",
        "colab_type": "text"
      },
      "source": [
        "# CONVOLUTION EFFICIENCY  \n"
      ]
    },
    {
      "cell_type": "markdown",
      "metadata": {
        "id": "kWs4OK-mEgO3",
        "colab_type": "text"
      },
      "source": [
        "## convolution role over image recognition"
      ]
    },
    {
      "cell_type": "code",
      "metadata": {
        "id": "sfQRyaJWAIdg",
        "colab_type": "code",
        "outputId": "f669257f-066b-4f63-df60-dc67aed5d00f",
        "colab": {
          "base_uri": "https://localhost:8080/",
          "height": 1000
        }
      },
      "source": [
        "import tensorflow as tf\n",
        "\n",
        "# YOUR CODE STARTS HERE\n",
        "import matplotlib.pyplot as plt\n",
        "import numpy as np\n",
        "\n",
        "class convWriting(tf.keras.callbacks.Callback):\n",
        "  def on_epoch_end(self, epoch, logs={}):\n",
        "    if( logs.get('acc') > 0.998):\n",
        "      print('\\n \\n' f\" our handwriting training model has reached { round (logs.get('acc')*100, 2) }% accuracy.Thus, the process stopped.\" '\\n')\n",
        "      self.model.stop_training = True \n",
        "conWriting =  convWriting()\n",
        "# YOUR CODE ENDS HERE\n",
        "\n",
        "mnist = tf.keras.datasets.mnist\n",
        "(training_images, training_labels), (test_images, test_labels) = mnist.load_data()\n",
        "# YOUR CODE STARTS HERE\n",
        "training_images= training_images/255.0\n",
        "plt.imshow(training_images[4])\n",
        "training_images = training_images.reshape(60000,28, 28, 1)\n",
        "test_images= test_images/255.0\n",
        "test_images =test_images.reshape(10000,28, 28, 1)\n",
        "\n",
        "\n",
        "# YOUR CODE ENDS HERE\n",
        "\n",
        "model = tf.keras.models.Sequential([\n",
        "     # YOUR CODE STARTS HERE \n",
        "\n",
        "    tf.keras.layers.Conv2D(32,(3,3),activation='relu', input_shape= (28,28,1)),\n",
        "    tf.keras.layers.MaxPooling2D(2,2),\n",
        "    tf.keras.layers.Flatten(),\n",
        "    tf.keras.layers.Dense(128, activation='relu'),\n",
        "    tf.keras.layers.Dense(10, activation='softmax') \n",
        "    # YOUR CODE ENDS HERE\n",
        "])\n",
        "\n",
        "# YOUR CODE STARTS HERE\n",
        "model.compile(optimizer='adam',\n",
        "              loss='sparse_categorical_crossentropy',\n",
        "              metrics=['accuracy'])\n",
        "model.fit(training_images, training_labels, epochs=10, callbacks=[conWriting])\n",
        "model.summary()\n",
        "# YOUR CODE ENDS HERE\n",
        "\n"
      ],
      "execution_count": 0,
      "outputs": [
        {
          "output_type": "stream",
          "text": [
            "WARNING: Logging before flag parsing goes to stderr.\n",
            "W0701 19:36:52.082861 139643685287808 deprecation.py:506] From /usr/local/lib/python3.6/dist-packages/tensorflow/python/ops/init_ops.py:1251: calling VarianceScaling.__init__ (from tensorflow.python.ops.init_ops) with dtype is deprecated and will be removed in a future version.\n",
            "Instructions for updating:\n",
            "Call initializer instance with the dtype argument instead of passing it to the constructor\n"
          ],
          "name": "stderr"
        },
        {
          "output_type": "stream",
          "text": [
            "Epoch 1/10\n",
            "60000/60000 [==============================] - 9s 156us/sample - loss: 0.1424 - acc: 0.9580\n",
            "Epoch 2/10\n",
            "60000/60000 [==============================] - 6s 92us/sample - loss: 0.0482 - acc: 0.9849\n",
            "Epoch 3/10\n",
            "60000/60000 [==============================] - 6s 93us/sample - loss: 0.0302 - acc: 0.9901\n",
            "Epoch 4/10\n",
            "60000/60000 [==============================] - 6s 92us/sample - loss: 0.0205 - acc: 0.9934\n",
            "Epoch 5/10\n",
            "60000/60000 [==============================] - 6s 94us/sample - loss: 0.0137 - acc: 0.9958\n",
            "Epoch 6/10\n",
            "60000/60000 [==============================] - 6s 93us/sample - loss: 0.0099 - acc: 0.9968\n",
            "Epoch 7/10\n",
            "60000/60000 [==============================] - 6s 92us/sample - loss: 0.0073 - acc: 0.9977\n",
            "Epoch 8/10\n",
            "59616/60000 [============================>.] - ETA: 0s - loss: 0.0059 - acc: 0.9980\n",
            " \n",
            " our handwriting training model has reached 99.8% accuracy.Thus, the process stopped.\n",
            "\n",
            "60000/60000 [==============================] - 5s 91us/sample - loss: 0.0059 - acc: 0.9980\n",
            "Model: \"sequential\"\n",
            "_________________________________________________________________\n",
            "Layer (type)                 Output Shape              Param #   \n",
            "=================================================================\n",
            "conv2d (Conv2D)              (None, 26, 26, 32)        320       \n",
            "_________________________________________________________________\n",
            "max_pooling2d (MaxPooling2D) (None, 13, 13, 32)        0         \n",
            "_________________________________________________________________\n",
            "flatten (Flatten)            (None, 5408)              0         \n",
            "_________________________________________________________________\n",
            "dense (Dense)                (None, 128)               692352    \n",
            "_________________________________________________________________\n",
            "dense_1 (Dense)              (None, 10)                1290      \n",
            "=================================================================\n",
            "Total params: 693,962\n",
            "Trainable params: 693,962\n",
            "Non-trainable params: 0\n",
            "_________________________________________________________________\n"
          ],
          "name": "stdout"
        },
        {
          "output_type": "display_data",
          "data": {
            "image/png": "[encoded data removed]",
            "text/plain": [
              "<Figure size 432x288 with 1 Axes>"
            ]
          },
          "metadata": {
            "tags": []
          }
        }
      ]
    }
  ]
}