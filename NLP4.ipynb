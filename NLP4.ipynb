{
  "nbformat": 4,
  "nbformat_minor": 0,
  "metadata": {
    "colab": {
      "name": " NLP4.ipynb",
      "version": "0.3.2",
      "provenance": [],
      "include_colab_link": true
    },
    "kernelspec": {
      "name": "python3",
      "display_name": "Python 3"
    },
    "accelerator": "GPU"
  },
  "cells": [
    {
      "cell_type": "markdown",
      "metadata": {
        "id": "view-in-github",
        "colab_type": "text"
      },
      "source": [
        "<a href=\"https://colab.research.google.com/github/tamnol/DeepLearning-AI/blob/master/NLP4.ipynb\" target=\"_parent\"><img src=\"https://colab.research.google.com/assets/colab-badge.svg\" alt=\"Open In Colab\"/></a>"
      ]
    },
    {
      "cell_type": "code",
      "metadata": {
        "id": "BOwsuGQQY9OL",
        "colab_type": "code",
        "colab": {}
      },
      "source": [
        "from tensorflow.keras.preprocessing.sequence import pad_sequences\n",
        "from tensorflow.keras.layers import Embedding, LSTM, Dense, Dropout, Bidirectional\n",
        "from tensorflow.keras.preprocessing.text import Tokenizer\n",
        "from tensorflow.keras.models import Sequential\n",
        "from tensorflow.keras.optimizers import Adam\n",
        "from tensorflow.keras import regularizers\n",
        "import tensorflow.keras.utils as ku \n",
        "import numpy as np "
      ],
      "execution_count": 0,
      "outputs": []
    },
    {
      "cell_type": "code",
      "metadata": {
        "colab_type": "code",
        "id": "PRnDnCW-Z7qv",
        "outputId": "7dab64c4-4dcc-466c-81d8-279aa6d2e08c",
        "colab": {
          "base_uri": "https://localhost:8080/",
          "height": 204
        }
      },
      "source": [
        "tokenizer = Tokenizer()\n",
        "!wget --no-check-certificate \\\n",
        "    https://storage.googleapis.com/laurencemoroney-blog.appspot.com/sonnets.txt \\\n",
        "    -O /tmp/sonnets.txt\n",
        "data = open('/tmp/sonnets.txt').read()\n",
        "\n",
        "corpus = data.lower().split(\"\\n\")\n",
        "\n",
        "\n",
        "tokenizer.fit_on_texts(corpus)\n",
        "total_words = len(tokenizer.word_index) + 1\n",
        "\n",
        "# create input sequences using list of tokens\n",
        "input_sequences = []\n",
        "for line in corpus:\n",
        "\ttoken_list = tokenizer.texts_to_sequences([line])[0]\n",
        "\tfor i in range(1, len(token_list)):\n",
        "\t\tn_gram_sequence = token_list[:i+1]\n",
        "\t\tinput_sequences.append(n_gram_sequence)\n",
        "\n",
        "\n",
        "# pad sequences \n",
        "max_sequence_len = max([len(x) for x in input_sequences])\n",
        "input_sequences = np.array(pad_sequences(input_sequences, maxlen=max_sequence_len, padding='pre'))\n",
        "\n",
        "# create predictors and label\n",
        "predictors, label = input_sequences[:,:-1],input_sequences[:,-1]\n",
        "\n",
        "label = ku.to_categorical(label, num_classes=total_words)"
      ],
      "execution_count": 2,
      "outputs": [
        {
          "output_type": "stream",
          "text": [
            "--2019-08-29 03:44:00--  https://storage.googleapis.com/laurencemoroney-blog.appspot.com/sonnets.txt\n",
            "Resolving storage.googleapis.com (storage.googleapis.com)... 74.125.203.128, 2404:6800:4008:c00::80\n",
            "Connecting to storage.googleapis.com (storage.googleapis.com)|74.125.203.128|:443... connected.\n",
            "HTTP request sent, awaiting response... 200 OK\n",
            "Length: 93578 (91K) [text/plain]\n",
            "Saving to: ‘/tmp/sonnets.txt’\n",
            "\n",
            "/tmp/sonnets.txt    100%[===================>]  91.38K  --.-KB/s    in 0.001s  \n",
            "\n",
            "2019-08-29 03:44:06 (125 MB/s) - ‘/tmp/sonnets.txt’ saved [93578/93578]\n",
            "\n"
          ],
          "name": "stdout"
        }
      ]
    },
    {
      "cell_type": "code",
      "metadata": {
        "id": "w9vH8Y59ajYL",
        "colab_type": "code",
        "outputId": "7d615e6c-21bd-4ad8-8888-a2d16378c4aa",
        "colab": {
          "base_uri": "https://localhost:8080/",
          "height": 374
        }
      },
      "source": [
        "model = Sequential()\n",
        "model.add(Embedding(total_words, 128, input_length = max_sequence_len -1))\n",
        "model.add( Bidirectional(LSTM(100, return_sequences= True)))\n",
        "model.add(Dropout(0.1))\n",
        "model.add(Bidirectional(LSTM(64)))\n",
        "model.add( Dense(total_words, kernel_regularizer=regularizers.l1(0.01), activation='relu'))\n",
        "model.add(Dense(total_words, activation='softmax'))\n",
        "# Pick an optimizer\n",
        "adam = Adam(lr= 0.01)\n",
        "model.compile(loss='categorical_crossentropy',optimizer='adam',metrics=['accuracy'])\n",
        "print(model.summary())\n"
      ],
      "execution_count": 6,
      "outputs": [
        {
          "output_type": "stream",
          "text": [
            "Model: \"sequential_1\"\n",
            "_________________________________________________________________\n",
            "Layer (type)                 Output Shape              Param #   \n",
            "=================================================================\n",
            "embedding_1 (Embedding)      (None, 10, 128)           411008    \n",
            "_________________________________________________________________\n",
            "bidirectional_2 (Bidirection (None, 10, 200)           183200    \n",
            "_________________________________________________________________\n",
            "dropout_1 (Dropout)          (None, 10, 200)           0         \n",
            "_________________________________________________________________\n",
            "bidirectional_3 (Bidirection (None, 128)               135680    \n",
            "_________________________________________________________________\n",
            "dense_2 (Dense)              (None, 3211)              414219    \n",
            "_________________________________________________________________\n",
            "dense_3 (Dense)              (None, 3211)              10313732  \n",
            "=================================================================\n",
            "Total params: 11,457,839\n",
            "Trainable params: 11,457,839\n",
            "Non-trainable params: 0\n",
            "_________________________________________________________________\n",
            "None\n"
          ],
          "name": "stdout"
        }
      ]
    },
    {
      "cell_type": "code",
      "metadata": {
        "id": "AIg2f1HBxqof",
        "colab_type": "code",
        "outputId": "b24436de-49aa-4139-e71f-39083632801b",
        "colab": {
          "base_uri": "https://localhost:8080/",
          "height": 1000
        }
      },
      "source": [
        " history = model.fit(predictors, label, epochs=100, verbose=1)"
      ],
      "execution_count": 4,
      "outputs": [
        {
          "output_type": "stream",
          "text": [
            "W0829 03:44:24.817711 139731177293696 deprecation.py:323] From /usr/local/lib/python3.6/dist-packages/tensorflow/python/ops/math_grad.py:1250: add_dispatch_support.<locals>.wrapper (from tensorflow.python.ops.array_ops) is deprecated and will be removed in a future version.\n",
            "Instructions for updating:\n",
            "Use tf.where in 2.0, which has the same broadcast rule as np.where\n"
          ],
          "name": "stderr"
        },
        {
          "output_type": "stream",
          "text": [
            "Epoch 1/100\n",
            "15462/15462 [==============================] - 52s 3ms/sample - loss: 10.2826 - acc: 0.0206\n",
            "Epoch 2/100\n",
            "15462/15462 [==============================] - 50s 3ms/sample - loss: 7.0676 - acc: 0.0221\n",
            "Epoch 3/100\n",
            "15462/15462 [==============================] - 50s 3ms/sample - loss: 7.0594 - acc: 0.0208\n",
            "Epoch 4/100\n",
            "15462/15462 [==============================] - 50s 3ms/sample - loss: 7.0571 - acc: 0.0203\n",
            "Epoch 5/100\n",
            "15462/15462 [==============================] - 50s 3ms/sample - loss: 7.0669 - acc: 0.0215\n",
            "Epoch 6/100\n",
            "15462/15462 [==============================] - 50s 3ms/sample - loss: 7.0569 - acc: 0.0239\n",
            "Epoch 7/100\n",
            "15462/15462 [==============================] - 50s 3ms/sample - loss: 7.0300 - acc: 0.0225\n",
            "Epoch 8/100\n",
            "15462/15462 [==============================] - 49s 3ms/sample - loss: 6.9895 - acc: 0.0228\n",
            "Epoch 9/100\n",
            "15462/15462 [==============================] - 49s 3ms/sample - loss: 6.9322 - acc: 0.0254\n",
            "Epoch 10/100\n",
            "15462/15462 [==============================] - 49s 3ms/sample - loss: 6.8685 - acc: 0.0285\n",
            "Epoch 11/100\n",
            "15462/15462 [==============================] - 49s 3ms/sample - loss: 6.8141 - acc: 0.0287\n",
            "Epoch 12/100\n",
            "15462/15462 [==============================] - 49s 3ms/sample - loss: 6.7640 - acc: 0.0302\n",
            "Epoch 13/100\n",
            "15462/15462 [==============================] - 49s 3ms/sample - loss: 6.7248 - acc: 0.0303\n",
            "Epoch 14/100\n",
            "15462/15462 [==============================] - 49s 3ms/sample - loss: 6.6934 - acc: 0.0291\n",
            "Epoch 15/100\n",
            "15462/15462 [==============================] - 49s 3ms/sample - loss: 6.6645 - acc: 0.0323\n",
            "Epoch 16/100\n",
            "15462/15462 [==============================] - 49s 3ms/sample - loss: 6.6397 - acc: 0.0327\n",
            "Epoch 17/100\n",
            "15462/15462 [==============================] - 49s 3ms/sample - loss: 6.6143 - acc: 0.0313\n",
            "Epoch 18/100\n",
            "15462/15462 [==============================] - 49s 3ms/sample - loss: 6.5912 - acc: 0.0309\n",
            "Epoch 19/100\n",
            "15462/15462 [==============================] - 49s 3ms/sample - loss: 6.5664 - acc: 0.0336\n",
            "Epoch 20/100\n",
            "15462/15462 [==============================] - 49s 3ms/sample - loss: 6.5345 - acc: 0.0329\n",
            "Epoch 21/100\n",
            "15462/15462 [==============================] - 49s 3ms/sample - loss: 6.5077 - acc: 0.0330\n",
            "Epoch 22/100\n",
            "15462/15462 [==============================] - 49s 3ms/sample - loss: 6.4900 - acc: 0.0349\n",
            "Epoch 23/100\n",
            "15462/15462 [==============================] - 49s 3ms/sample - loss: 6.4595 - acc: 0.0324\n",
            "Epoch 24/100\n",
            "15462/15462 [==============================] - 49s 3ms/sample - loss: 6.4405 - acc: 0.0351\n",
            "Epoch 25/100\n",
            "15462/15462 [==============================] - 49s 3ms/sample - loss: 6.4219 - acc: 0.0366\n",
            "Epoch 26/100\n",
            "15462/15462 [==============================] - 49s 3ms/sample - loss: 6.4052 - acc: 0.0351\n",
            "Epoch 27/100\n",
            "15462/15462 [==============================] - 49s 3ms/sample - loss: 6.3892 - acc: 0.0358\n",
            "Epoch 28/100\n",
            "15462/15462 [==============================] - 49s 3ms/sample - loss: 6.3726 - acc: 0.0360\n",
            "Epoch 29/100\n",
            "15462/15462 [==============================] - 49s 3ms/sample - loss: 6.3509 - acc: 0.0390\n",
            "Epoch 30/100\n",
            "15462/15462 [==============================] - 49s 3ms/sample - loss: 6.3329 - acc: 0.0366\n",
            "Epoch 31/100\n",
            "15462/15462 [==============================] - 49s 3ms/sample - loss: 6.3123 - acc: 0.0410\n",
            "Epoch 32/100\n",
            "15462/15462 [==============================] - 49s 3ms/sample - loss: 6.2977 - acc: 0.0404\n",
            "Epoch 33/100\n",
            "15462/15462 [==============================] - 49s 3ms/sample - loss: 6.2921 - acc: 0.0406\n",
            "Epoch 34/100\n",
            "15462/15462 [==============================] - 49s 3ms/sample - loss: 6.2723 - acc: 0.0430\n",
            "Epoch 35/100\n",
            "15462/15462 [==============================] - 49s 3ms/sample - loss: 6.2376 - acc: 0.0448\n",
            "Epoch 36/100\n",
            "15462/15462 [==============================] - 49s 3ms/sample - loss: 6.2235 - acc: 0.0458\n",
            "Epoch 37/100\n",
            "15462/15462 [==============================] - 49s 3ms/sample - loss: 6.2053 - acc: 0.0453\n",
            "Epoch 38/100\n",
            "15462/15462 [==============================] - 49s 3ms/sample - loss: 6.1771 - acc: 0.0498\n",
            "Epoch 39/100\n",
            "15462/15462 [==============================] - 49s 3ms/sample - loss: 6.1545 - acc: 0.0504\n",
            "Epoch 40/100\n",
            "15462/15462 [==============================] - 49s 3ms/sample - loss: 6.1358 - acc: 0.0489\n",
            "Epoch 41/100\n",
            "15462/15462 [==============================] - 49s 3ms/sample - loss: 6.1186 - acc: 0.0520\n",
            "Epoch 42/100\n",
            "15462/15462 [==============================] - 49s 3ms/sample - loss: 6.0973 - acc: 0.0541\n",
            "Epoch 43/100\n",
            "15462/15462 [==============================] - 49s 3ms/sample - loss: 6.0699 - acc: 0.0543\n",
            "Epoch 44/100\n",
            "15462/15462 [==============================] - 49s 3ms/sample - loss: 6.0449 - acc: 0.0557\n",
            "Epoch 45/100\n",
            "15462/15462 [==============================] - 49s 3ms/sample - loss: 6.0252 - acc: 0.0589\n",
            "Epoch 46/100\n",
            "15462/15462 [==============================] - 49s 3ms/sample - loss: 6.0086 - acc: 0.0591\n",
            "Epoch 47/100\n",
            "15462/15462 [==============================] - 49s 3ms/sample - loss: 5.9797 - acc: 0.0631\n",
            "Epoch 48/100\n",
            "15462/15462 [==============================] - 49s 3ms/sample - loss: 5.9529 - acc: 0.0631\n",
            "Epoch 49/100\n",
            "15462/15462 [==============================] - 49s 3ms/sample - loss: 5.9190 - acc: 0.0667\n",
            "Epoch 50/100\n",
            "15462/15462 [==============================] - 49s 3ms/sample - loss: 5.8962 - acc: 0.0683\n",
            "Epoch 51/100\n",
            "15462/15462 [==============================] - 49s 3ms/sample - loss: 5.8739 - acc: 0.0715\n",
            "Epoch 52/100\n",
            "15462/15462 [==============================] - 49s 3ms/sample - loss: 5.8445 - acc: 0.0729\n",
            "Epoch 53/100\n",
            "15462/15462 [==============================] - 49s 3ms/sample - loss: 5.8203 - acc: 0.0761\n",
            "Epoch 54/100\n",
            "15462/15462 [==============================] - 49s 3ms/sample - loss: 5.7932 - acc: 0.0760\n",
            "Epoch 55/100\n",
            "15462/15462 [==============================] - 49s 3ms/sample - loss: 5.7759 - acc: 0.0797\n",
            "Epoch 56/100\n",
            "15462/15462 [==============================] - 49s 3ms/sample - loss: 5.7478 - acc: 0.0806\n",
            "Epoch 57/100\n",
            "15462/15462 [==============================] - 49s 3ms/sample - loss: 5.7209 - acc: 0.0833\n",
            "Epoch 58/100\n",
            "15462/15462 [==============================] - 49s 3ms/sample - loss: 5.6949 - acc: 0.0865\n",
            "Epoch 59/100\n",
            "15462/15462 [==============================] - 49s 3ms/sample - loss: 5.6765 - acc: 0.0876\n",
            "Epoch 60/100\n",
            "15462/15462 [==============================] - 49s 3ms/sample - loss: 5.6510 - acc: 0.0886\n",
            "Epoch 61/100\n",
            "15462/15462 [==============================] - 49s 3ms/sample - loss: 5.6312 - acc: 0.0896\n",
            "Epoch 62/100\n",
            "15462/15462 [==============================] - 49s 3ms/sample - loss: 5.5961 - acc: 0.0947\n",
            "Epoch 63/100\n",
            "15462/15462 [==============================] - 49s 3ms/sample - loss: 5.5734 - acc: 0.0964\n",
            "Epoch 64/100\n",
            "15462/15462 [==============================] - 49s 3ms/sample - loss: 5.5683 - acc: 0.0962\n",
            "Epoch 65/100\n",
            "15462/15462 [==============================] - 49s 3ms/sample - loss: 5.5311 - acc: 0.1007\n",
            "Epoch 66/100\n",
            "15462/15462 [==============================] - 49s 3ms/sample - loss: 5.4996 - acc: 0.1035\n",
            "Epoch 67/100\n",
            "15462/15462 [==============================] - 49s 3ms/sample - loss: 5.4809 - acc: 0.1071\n",
            "Epoch 68/100\n",
            "15462/15462 [==============================] - 49s 3ms/sample - loss: 5.4488 - acc: 0.1072\n",
            "Epoch 69/100\n",
            "15462/15462 [==============================] - 49s 3ms/sample - loss: 5.4293 - acc: 0.1059\n",
            "Epoch 70/100\n",
            "15462/15462 [==============================] - 49s 3ms/sample - loss: 5.4133 - acc: 0.1098\n",
            "Epoch 71/100\n",
            "15462/15462 [==============================] - 49s 3ms/sample - loss: 5.3885 - acc: 0.1135\n",
            "Epoch 72/100\n",
            "15462/15462 [==============================] - 49s 3ms/sample - loss: 5.3738 - acc: 0.1140\n",
            "Epoch 73/100\n",
            "15462/15462 [==============================] - 49s 3ms/sample - loss: 5.3622 - acc: 0.1165\n",
            "Epoch 74/100\n",
            "15462/15462 [==============================] - 49s 3ms/sample - loss: 5.3381 - acc: 0.1183\n",
            "Epoch 75/100\n",
            "15462/15462 [==============================] - 49s 3ms/sample - loss: 5.3322 - acc: 0.1184\n",
            "Epoch 76/100\n",
            "15462/15462 [==============================] - 49s 3ms/sample - loss: 5.3100 - acc: 0.1213\n",
            "Epoch 77/100\n",
            "15462/15462 [==============================] - 49s 3ms/sample - loss: 5.2745 - acc: 0.1237\n",
            "Epoch 78/100\n",
            "15462/15462 [==============================] - 49s 3ms/sample - loss: 5.2360 - acc: 0.1281\n",
            "Epoch 79/100\n",
            "15462/15462 [==============================] - 49s 3ms/sample - loss: 5.2133 - acc: 0.1330\n",
            "Epoch 80/100\n",
            "15462/15462 [==============================] - 49s 3ms/sample - loss: 5.1849 - acc: 0.1329\n",
            "Epoch 81/100\n",
            "15462/15462 [==============================] - 49s 3ms/sample - loss: 5.1747 - acc: 0.1330\n",
            "Epoch 82/100\n",
            "15462/15462 [==============================] - 49s 3ms/sample - loss: 5.1517 - acc: 0.1378\n",
            "Epoch 83/100\n",
            "15462/15462 [==============================] - 49s 3ms/sample - loss: 5.1150 - acc: 0.1397\n",
            "Epoch 84/100\n",
            "15462/15462 [==============================] - 49s 3ms/sample - loss: 5.1142 - acc: 0.1435\n",
            "Epoch 85/100\n",
            "15462/15462 [==============================] - 49s 3ms/sample - loss: 5.0718 - acc: 0.1448\n",
            "Epoch 86/100\n",
            "15462/15462 [==============================] - 49s 3ms/sample - loss: 5.0464 - acc: 0.1515\n",
            "Epoch 87/100\n",
            "15462/15462 [==============================] - 49s 3ms/sample - loss: 5.0297 - acc: 0.1514\n",
            "Epoch 88/100\n",
            "15462/15462 [==============================] - 49s 3ms/sample - loss: 4.9936 - acc: 0.1546\n",
            "Epoch 89/100\n",
            "15462/15462 [==============================] - 49s 3ms/sample - loss: 4.9848 - acc: 0.1586\n",
            "Epoch 90/100\n",
            "15462/15462 [==============================] - 49s 3ms/sample - loss: 4.9944 - acc: 0.1560\n",
            "Epoch 91/100\n",
            "15462/15462 [==============================] - 49s 3ms/sample - loss: 4.9596 - acc: 0.1585\n",
            "Epoch 92/100\n",
            "15462/15462 [==============================] - 49s 3ms/sample - loss: 4.9375 - acc: 0.1660\n",
            "Epoch 93/100\n",
            "15462/15462 [==============================] - 49s 3ms/sample - loss: 4.9043 - acc: 0.1681\n",
            "Epoch 94/100\n",
            "15462/15462 [==============================] - 49s 3ms/sample - loss: 4.8900 - acc: 0.1680\n",
            "Epoch 95/100\n",
            "15462/15462 [==============================] - 49s 3ms/sample - loss: 4.8765 - acc: 0.1695\n",
            "Epoch 96/100\n",
            "15462/15462 [==============================] - 49s 3ms/sample - loss: 4.8518 - acc: 0.1741\n",
            "Epoch 97/100\n",
            "15462/15462 [==============================] - 49s 3ms/sample - loss: 4.8241 - acc: 0.1782\n",
            "Epoch 98/100\n",
            "15462/15462 [==============================] - 49s 3ms/sample - loss: 4.8021 - acc: 0.1817\n",
            "Epoch 99/100\n",
            "15462/15462 [==============================] - 55s 4ms/sample - loss: 4.7724 - acc: 0.1840\n",
            "Epoch 100/100\n",
            "15462/15462 [==============================] - 50s 3ms/sample - loss: 4.7548 - acc: 0.1870\n"
          ],
          "name": "stdout"
        }
      ]
    },
    {
      "cell_type": "markdown",
      "metadata": {
        "id": "i6GH9qZGf7R9",
        "colab_type": "text"
      },
      "source": [
        ""
      ]
    },
    {
      "cell_type": "code",
      "metadata": {
        "id": "1fXTEO3GJ282",
        "colab_type": "code",
        "outputId": "13eab934-e708-4d76-cee2-daf92405b5e4",
        "colab": {
          "base_uri": "https://localhost:8080/",
          "height": 545
        }
      },
      "source": [
        "import matplotlib.pyplot as plt\n",
        "acc = history.history['acc']\n",
        "loss = history.history['loss']\n",
        "\n",
        "epochs = range(len(acc))\n",
        "\n",
        "plt.plot(epochs, acc, 'b', label='Training accuracy')\n",
        "plt.title('Training accuracy')\n",
        "\n",
        "plt.figure()\n",
        "\n",
        "plt.plot(epochs, loss, 'b', label='Training Loss')\n",
        "plt.title('Training loss')\n",
        "plt.legend()\n",
        "\n",
        "plt.show()"
      ],
      "execution_count": 5,
      "outputs": [
        {
          "output_type": "display_data",
          "data": {
            "image/png": "[encoded data removed]",
            "text/plain": [
              "<Figure size 432x288 with 1 Axes>"
            ]
          },
          "metadata": {
            "tags": []
          }
        },
        {
          "output_type": "display_data",
          "data": {
            "image/png": "[encoded data removed]",
            "text/plain": [
              "<Figure size 432x288 with 1 Axes>"
            ]
          },
          "metadata": {
            "tags": []
          }
        }
      ]
    },
    {
      "cell_type": "code",
      "metadata": {
        "id": "6Vc6PHgxa6Hm",
        "colab_type": "code",
        "colab": {
          "base_uri": "https://localhost:8080/",
          "height": 54
        },
        "outputId": "3bc83bd3-5eb4-4ac7-a556-9e50e004e411"
      },
      "source": [
        "seed_text = \"natural language processing is interesting ML module to learn because\"\n",
        "next_words = 100\n",
        "  \n",
        "for _ in range(next_words):\n",
        "\ttoken_list = tokenizer.texts_to_sequences([seed_text])[0]\n",
        "\ttoken_list = pad_sequences([token_list], maxlen=max_sequence_len-1, padding='pre')\n",
        "\tpredicted = model.predict_classes(token_list, verbose=0)\n",
        "\toutput_word = \"\"\n",
        "\tfor word, index in tokenizer.word_index.items():\n",
        "\t\tif index == predicted:\n",
        "\t\t\toutput_word = word\n",
        "\t\t\tbreak\n",
        "\tseed_text += \" \" + output_word\n",
        "print(seed_text)"
      ],
      "execution_count": 9,
      "outputs": [
        {
          "output_type": "stream",
          "text": [
            "natural language processing is interesting ML module to learn because seal wing madmen's fell excess defects deem'd legacy soundless mayst pitiful eternal eternal poverty poverty deem'd compared compared compared 'this 'this 'this 'this wrong inviting there sovereign sovereign sovereign sovereign ord poverty babe babe fawn expire him him abide tyrannous wasted babe graven abide sovereign ord ord eternal eternal telling eternal revenues purpose purpose 'this misprision proclaims afford afford poverty poverty more ensconce ensconce ensconce sums sums sums sweetest sweetest sweetest sweetest sweetest sweetest sweetest prescriptions prescriptions robbery 'this drugs drugs drugs shouldst bravery bravery whate'er abide abide extremity abide extremity balmy mortgaged mortgaged balmy anticipate kissing kissing kissing anticipate\n"
          ],
          "name": "stdout"
        }
      ]
    }
  ]
}