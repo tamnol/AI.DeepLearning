{
  "nbformat": 4,
  "nbformat_minor": 0,
  "metadata": {
    "colab": {
      "name": "sunpots.ipynb",
      "provenance": [],
      "collapsed_sections": [],
      "include_colab_link": true
    },
    "kernelspec": {
      "name": "python3",
      "display_name": "Python 3"
    },
    "accelerator": "GPU"
  },
  "cells": [
    {
      "cell_type": "markdown",
      "metadata": {
        "id": "view-in-github",
        "colab_type": "text"
      },
      "source": [
        "<a href=\"https://colab.research.google.com/github/tamnol/DeepLearning-AI/blob/master/sunpots.ipynb\" target=\"_parent\"><img src=\"https://colab.research.google.com/assets/colab-badge.svg\" alt=\"Open In Colab\"/></a>"
      ]
    },
    {
      "cell_type": "code",
      "metadata": {
        "id": "GNkzTFfynsmV",
        "colab_type": "code",
        "colab": {}
      },
      "source": [
        "!pip install tensorflow==2"
      ],
      "execution_count": 0,
      "outputs": []
    },
    {
      "cell_type": "code",
      "metadata": {
        "id": "56XEQOGknrAk",
        "colab_type": "code",
        "outputId": "df958b5e-ca19-4f22-bf3a-c20b108cc360",
        "colab": {
          "base_uri": "https://localhost:8080/",
          "height": 34
        }
      },
      "source": [
        "import tensorflow as tf\n",
        "print(tf.__version__)"
      ],
      "execution_count": 38,
      "outputs": [
        {
          "output_type": "stream",
          "text": [
            "2.0.0\n"
          ],
          "name": "stdout"
        }
      ]
    },
    {
      "cell_type": "code",
      "metadata": {
        "id": "sLl52leVp5wU",
        "colab_type": "code",
        "colab": {}
      },
      "source": [
        "import numpy as np\n",
        "import matplotlib.pyplot as plt\n",
        "def plot_series(time, series, format=\"-\", start=0, end=None):\n",
        "    plt.plot(time[start:end], series[start:end], format)\n",
        "    plt.xlabel(\"Time\")\n",
        "    plt.ylabel(\"Value\")\n",
        "    plt.grid(True)"
      ],
      "execution_count": 0,
      "outputs": []
    },
    {
      "cell_type": "code",
      "metadata": {
        "id": "tP7oqUdkk0gY",
        "colab_type": "code",
        "outputId": "c27e3918-d3df-4503-bb64-cb50297e4cad",
        "colab": {
          "base_uri": "https://localhost:8080/",
          "height": 204
        }
      },
      "source": [
        "!wget --no-check-certificate \\\n",
        "    https://raw.githubusercontent.com/jbrownlee/Datasets/master/daily-min-temperatures.csv \\\n",
        "    -O /tmp/daily-min-temperatures.csv"
      ],
      "execution_count": 40,
      "outputs": [
        {
          "output_type": "stream",
          "text": [
            "--2019-10-03 05:48:29--  https://raw.githubusercontent.com/jbrownlee/Datasets/master/daily-min-temperatures.csv\n",
            "Resolving raw.githubusercontent.com (raw.githubusercontent.com)... 151.101.0.133, 151.101.64.133, 151.101.128.133, ...\n",
            "Connecting to raw.githubusercontent.com (raw.githubusercontent.com)|151.101.0.133|:443... connected.\n",
            "HTTP request sent, awaiting response... 200 OK\n",
            "Length: 67921 (66K) [text/plain]\n",
            "Saving to: ‘/tmp/daily-min-temperatures.csv’\n",
            "\n",
            "\r          /tmp/dail   0%[                    ]       0  --.-KB/s               \r/tmp/daily-min-temp 100%[===================>]  66.33K  --.-KB/s    in 0.01s   \n",
            "\n",
            "2019-10-03 05:48:29 (5.13 MB/s) - ‘/tmp/daily-min-temperatures.csv’ saved [67921/67921]\n",
            "\n"
          ],
          "name": "stdout"
        }
      ]
    },
    {
      "cell_type": "code",
      "metadata": {
        "id": "NcG9r1eClbTh",
        "colab_type": "code",
        "outputId": "51438118-3fc7-410e-c238-a110d3bb0c4e",
        "colab": {
          "base_uri": "https://localhost:8080/",
          "height": 392
        }
      },
      "source": [
        "import csv\n",
        "time_step = []\n",
        "temps = []\n",
        "\n",
        "with open('/tmp/daily-min-temperatures.csv') as csvfile:\n",
        "    file_read = csv.reader(csvfile, delimiter =',')\n",
        "    next(file_read)\n",
        "    i = 0\n",
        "    for row in file_read: \n",
        "      temps.append(float(row[1]))\n",
        "      time_step.append(i)\n",
        "      i = i + 1\n",
        "     \n",
        " \n",
        "\n",
        "series = np.array(temps)\n",
        "time = np.array(time_step)\n",
        "plt.figure(figsize=(10, 6))\n",
        "plot_series(time, series)"
      ],
      "execution_count": 41,
      "outputs": [
        {
          "output_type": "display_data",
          "data": {
            "image/png": "[encoded data removed]",
            "text/plain": [
              "<Figure size 720x432 with 1 Axes>"
            ]
          },
          "metadata": {
            "tags": []
          }
        }
      ]
    },
    {
      "cell_type": "code",
      "metadata": {
        "id": "L92YRw_IpCFG",
        "colab_type": "code",
        "colab": {}
      },
      "source": [
        "split_time = 2500\n",
        "time_train = time[:split_time]\n",
        "x_train = series[:split_time]\n",
        "time_valid = time[split_time:]\n",
        "x_valid = series[split_time:]\n",
        "\n",
        "window_size = 30\n",
        "batch_size = 32\n",
        "shuffle_buffer_size = 1000\n",
        "\n"
      ],
      "execution_count": 0,
      "outputs": []
    },
    {
      "cell_type": "code",
      "metadata": {
        "id": "lJwUUZscnG38",
        "colab_type": "code",
        "colab": {}
      },
      "source": [
        "def windowed_dataset(series, window_size, batch_size, shuffle_buffer):\n",
        "    series = tf.expand_dims(series, axis=-1)\n",
        "    ds = tf.data.Dataset.from_tensor_slices(series)\n",
        "    ds = ds.window(window_size + 1, shift=1, drop_remainder=True)\n",
        "    ds = ds.flat_map(lambda w: w.batch(window_size + 1))\n",
        "    ds = ds.shuffle(shuffle_buffer)\n",
        "    ds = ds.map(lambda w: (w[:-1], w[1:]))\n",
        "    return ds.batch(batch_size).prefetch(1)"
      ],
      "execution_count": 0,
      "outputs": []
    },
    {
      "cell_type": "code",
      "metadata": {
        "id": "4XwGrf-A_wF0",
        "colab_type": "code",
        "colab": {}
      },
      "source": [
        "def model_forecast(model, series, window_size):\n",
        "    ds = tf.data.Dataset.from_tensor_slices(series)\n",
        "    ds = ds.window(window_size, shift=1, drop_remainder=True)\n",
        "    ds = ds.flat_map(lambda w: w.batch(window_size))\n",
        "    ds = ds.batch(32).prefetch(1)\n",
        "    forecast = model.predict(ds)\n",
        "    return forecast"
      ],
      "execution_count": 0,
      "outputs": []
    },
    {
      "cell_type": "code",
      "metadata": {
        "id": "AclfYY3Mn6Ph",
        "colab_type": "code",
        "outputId": "b19c91b7-13da-4be7-d545-1961d26518f7",
        "colab": {
          "base_uri": "https://localhost:8080/",
          "height": 1000
        }
      },
      "source": [
        "tf.keras.backend.clear_session()\n",
        "tf.random.set_seed(51)\n",
        "np.random.seed(51)\n",
        "window_size = 64\n",
        "batch_size = 256\n",
        "train_set = windowed_dataset(x_train, window_size, batch_size, shuffle_buffer_size)\n",
        "print(train_set)\n",
        "print(x_train.shape)\n",
        "\n",
        "model = tf.keras.models.Sequential([\n",
        "                                    tf.keras.layers.Conv1D(filters= 32, kernel_size= 5, strides=1, \n",
        "                                                           padding='same',activation=\"relu\", \n",
        "                                                           input_shape=[None, 1]),\n",
        "                                    tf.keras.layers.LSTM(64, return_sequences=True),\n",
        "                                    tf.keras.layers.LSTM(64, return_sequences=True),\n",
        "                                    tf.keras.layers.Dense(30, activation=\"relu\"),\n",
        "                                    tf.keras.layers.Dense(10, activation=\"relu\"),\n",
        "                                    tf.keras.layers.Dense(1),\n",
        "                                    tf.keras.layers.Lambda(lambda x: x * 400)\n",
        "                                    ])\n",
        "\n",
        "lr_schedule = tf.keras.callbacks.LearningRateScheduler(\n",
        "    lambda epoch: 1e-8 * 10**(epoch / 20))\n",
        "optimizer = tf.keras.optimizers.SGD(lr=1e-8, momentum=0.9)\n",
        "model.compile(loss=tf.keras.losses.Huber(),\n",
        "              optimizer=optimizer,\n",
        "              metrics=[\"mae\"])\n",
        "history = model.fit(train_set, epochs=100, callbacks=[lr_schedule])\n",
        "\n",
        "\n"
      ],
      "execution_count": 54,
      "outputs": [
        {
          "output_type": "stream",
          "text": [
            "<PrefetchDataset shapes: ((None, None, 1), (None, None, 1)), types: (tf.float64, tf.float64)>\n",
            "(2500,)\n",
            "Epoch 1/100\n",
            "10/10 [==============================] - 8s 799ms/step - loss: 32.5567 - mae: 33.0582\n",
            "Epoch 2/100\n",
            "10/10 [==============================] - 5s 468ms/step - loss: 31.9272 - mae: 32.4302\n",
            "Epoch 3/100\n",
            "10/10 [==============================] - 5s 471ms/step - loss: 31.0186 - mae: 31.4477\n",
            "Epoch 4/100\n",
            "10/10 [==============================] - 5s 468ms/step - loss: 29.7358 - mae: 30.2106\n",
            "Epoch 5/100\n",
            "10/10 [==============================] - 5s 470ms/step - loss: 28.1208 - mae: 28.6831\n",
            "Epoch 6/100\n",
            "10/10 [==============================] - 5s 470ms/step - loss: 26.2800 - mae: 26.7419\n",
            "Epoch 7/100\n",
            "10/10 [==============================] - 5s 460ms/step - loss: 23.7627 - mae: 24.2522\n",
            "Epoch 8/100\n",
            "10/10 [==============================] - 5s 470ms/step - loss: 20.7149 - mae: 21.1184\n",
            "Epoch 9/100\n",
            "10/10 [==============================] - 5s 467ms/step - loss: 17.0066 - mae: 17.3608\n",
            "Epoch 10/100\n",
            "10/10 [==============================] - 5s 467ms/step - loss: 12.8595 - mae: 13.2171\n",
            "Epoch 11/100\n",
            "10/10 [==============================] - 5s 459ms/step - loss: 9.1094 - mae: 9.4395\n",
            "Epoch 12/100\n",
            "10/10 [==============================] - 5s 469ms/step - loss: 6.5514 - mae: 6.9761\n",
            "Epoch 13/100\n",
            "10/10 [==============================] - 5s 469ms/step - loss: 5.4541 - mae: 5.9194\n",
            "Epoch 14/100\n",
            "10/10 [==============================] - 5s 473ms/step - loss: 4.9647 - mae: 5.4121\n",
            "Epoch 15/100\n",
            "10/10 [==============================] - 5s 470ms/step - loss: 4.4888 - mae: 4.9433\n",
            "Epoch 16/100\n",
            "10/10 [==============================] - 5s 467ms/step - loss: 3.9805 - mae: 4.4312\n",
            "Epoch 17/100\n",
            "10/10 [==============================] - 5s 471ms/step - loss: 3.4983 - mae: 3.9526\n",
            "Epoch 18/100\n",
            "10/10 [==============================] - 5s 463ms/step - loss: 3.0887 - mae: 3.5426\n",
            "Epoch 19/100\n",
            "10/10 [==============================] - 5s 472ms/step - loss: 2.7743 - mae: 3.2224\n",
            "Epoch 20/100\n",
            "10/10 [==============================] - 5s 470ms/step - loss: 2.5500 - mae: 2.9931\n",
            "Epoch 21/100\n",
            "10/10 [==============================] - 5s 473ms/step - loss: 2.3914 - mae: 2.8407\n",
            "Epoch 22/100\n",
            "10/10 [==============================] - 5s 471ms/step - loss: 2.2951 - mae: 2.7399\n",
            "Epoch 23/100\n",
            "10/10 [==============================] - 5s 467ms/step - loss: 2.2069 - mae: 2.6623\n",
            "Epoch 24/100\n",
            "10/10 [==============================] - 5s 468ms/step - loss: 2.1520 - mae: 2.6043\n",
            "Epoch 25/100\n",
            "10/10 [==============================] - 5s 464ms/step - loss: 2.1034 - mae: 2.5539\n",
            "Epoch 26/100\n",
            "10/10 [==============================] - 5s 465ms/step - loss: 2.0594 - mae: 2.5092\n",
            "Epoch 27/100\n",
            "10/10 [==============================] - 5s 470ms/step - loss: 2.0279 - mae: 2.4689\n",
            "Epoch 28/100\n",
            "10/10 [==============================] - 5s 463ms/step - loss: 1.9825 - mae: 2.4313\n",
            "Epoch 29/100\n",
            "10/10 [==============================] - 5s 465ms/step - loss: 1.9498 - mae: 2.3968\n",
            "Epoch 30/100\n",
            "10/10 [==============================] - 5s 465ms/step - loss: 1.9190 - mae: 2.3632\n",
            "Epoch 31/100\n",
            "10/10 [==============================] - 5s 463ms/step - loss: 1.8876 - mae: 2.3308\n",
            "Epoch 32/100\n",
            "10/10 [==============================] - 5s 466ms/step - loss: 1.8529 - mae: 2.2987\n",
            "Epoch 33/100\n",
            "10/10 [==============================] - 5s 467ms/step - loss: 1.8228 - mae: 2.2684\n",
            "Epoch 34/100\n",
            "10/10 [==============================] - 5s 469ms/step - loss: 1.7902 - mae: 2.2346\n",
            "Epoch 35/100\n",
            "10/10 [==============================] - 5s 461ms/step - loss: 1.7614 - mae: 2.2040\n",
            "Epoch 36/100\n",
            "10/10 [==============================] - 5s 465ms/step - loss: 1.7337 - mae: 2.1737\n",
            "Epoch 37/100\n",
            "10/10 [==============================] - 5s 468ms/step - loss: 1.7008 - mae: 2.1438\n",
            "Epoch 38/100\n",
            "10/10 [==============================] - 5s 469ms/step - loss: 1.6693 - mae: 2.1125\n",
            "Epoch 39/100\n",
            "10/10 [==============================] - 5s 470ms/step - loss: 1.6424 - mae: 2.0806\n",
            "Epoch 40/100\n",
            "10/10 [==============================] - 5s 467ms/step - loss: 1.6103 - mae: 2.0486\n",
            "Epoch 41/100\n",
            "10/10 [==============================] - 5s 464ms/step - loss: 1.5793 - mae: 2.0172\n",
            "Epoch 42/100\n",
            "10/10 [==============================] - 5s 469ms/step - loss: 1.5484 - mae: 1.9848\n",
            "Epoch 43/100\n",
            "10/10 [==============================] - 5s 469ms/step - loss: 1.5138 - mae: 1.9500\n",
            "Epoch 44/100\n",
            "10/10 [==============================] - 5s 466ms/step - loss: 1.4833 - mae: 1.9200\n",
            "Epoch 45/100\n",
            "10/10 [==============================] - 5s 469ms/step - loss: 1.4475 - mae: 1.8829\n",
            "Epoch 46/100\n",
            "10/10 [==============================] - 5s 461ms/step - loss: 1.4034 - mae: 1.8371\n",
            "Epoch 47/100\n",
            "10/10 [==============================] - 5s 464ms/step - loss: 1.3611 - mae: 1.7972\n",
            "Epoch 48/100\n",
            "10/10 [==============================] - 5s 461ms/step - loss: 1.3239 - mae: 1.7550\n",
            "Epoch 49/100\n",
            "10/10 [==============================] - 5s 469ms/step - loss: 1.2816 - mae: 1.7087\n",
            "Epoch 50/100\n",
            "10/10 [==============================] - 5s 463ms/step - loss: 1.2434 - mae: 1.6697\n",
            "Epoch 51/100\n",
            "10/10 [==============================] - 5s 464ms/step - loss: 1.1997 - mae: 1.6238\n",
            "Epoch 52/100\n",
            "10/10 [==============================] - 5s 468ms/step - loss: 1.1546 - mae: 1.5771\n",
            "Epoch 53/100\n",
            "10/10 [==============================] - 5s 468ms/step - loss: 1.1206 - mae: 1.5410\n",
            "Epoch 54/100\n",
            "10/10 [==============================] - 5s 468ms/step - loss: 1.0917 - mae: 1.5092\n",
            "Epoch 55/100\n",
            "10/10 [==============================] - 5s 461ms/step - loss: 1.3982 - mae: 1.8568\n",
            "Epoch 56/100\n",
            "10/10 [==============================] - 5s 469ms/step - loss: 1.7316 - mae: 2.2010\n",
            "Epoch 57/100\n",
            "10/10 [==============================] - 5s 462ms/step - loss: 1.9259 - mae: 2.3887\n",
            "Epoch 58/100\n",
            "10/10 [==============================] - 5s 465ms/step - loss: 2.2597 - mae: 2.7323\n",
            "Epoch 59/100\n",
            "10/10 [==============================] - 5s 463ms/step - loss: 2.5310 - mae: 3.0103\n",
            "Epoch 60/100\n",
            "10/10 [==============================] - 5s 469ms/step - loss: 2.6918 - mae: 3.1939\n",
            "Epoch 61/100\n",
            "10/10 [==============================] - 5s 462ms/step - loss: 3.0365 - mae: 3.4676\n",
            "Epoch 62/100\n",
            "10/10 [==============================] - 5s 469ms/step - loss: 5.1903 - mae: 6.2386\n",
            "Epoch 63/100\n",
            "10/10 [==============================] - 5s 484ms/step - loss: 17.7908 - mae: 18.1865\n",
            "Epoch 64/100\n",
            "10/10 [==============================] - 5s 472ms/step - loss: 8.1595 - mae: 8.5830\n",
            "Epoch 65/100\n",
            "10/10 [==============================] - 5s 473ms/step - loss: 5.0156 - mae: 5.4156\n",
            "Epoch 66/100\n",
            "10/10 [==============================] - 5s 461ms/step - loss: 3.1933 - mae: 3.5780\n",
            "Epoch 67/100\n",
            "10/10 [==============================] - 5s 465ms/step - loss: 2.4134 - mae: 2.8254\n",
            "Epoch 68/100\n",
            "10/10 [==============================] - 5s 458ms/step - loss: 4.1719 - mae: 5.0917\n",
            "Epoch 69/100\n",
            "10/10 [==============================] - 5s 455ms/step - loss: 6.2762 - mae: 6.9844\n",
            "Epoch 70/100\n",
            "10/10 [==============================] - 5s 460ms/step - loss: 7.2893 - mae: 7.8011\n",
            "Epoch 71/100\n",
            "10/10 [==============================] - 5s 468ms/step - loss: 7.4170 - mae: 7.9016\n",
            "Epoch 72/100\n",
            "10/10 [==============================] - 5s 450ms/step - loss: 6.1015 - mae: 6.4481\n",
            "Epoch 73/100\n",
            "10/10 [==============================] - 5s 462ms/step - loss: 2.7473 - mae: 3.2239\n",
            "Epoch 74/100\n",
            "10/10 [==============================] - 5s 467ms/step - loss: 2.2482 - mae: 2.6824\n",
            "Epoch 75/100\n",
            "10/10 [==============================] - 5s 467ms/step - loss: 2.6932 - mae: 3.1245\n",
            "Epoch 76/100\n",
            "10/10 [==============================] - 5s 467ms/step - loss: 3.4741 - mae: 3.8683\n",
            "Epoch 77/100\n",
            "10/10 [==============================] - 5s 461ms/step - loss: 5.5884 - mae: 5.9522\n",
            "Epoch 78/100\n",
            "10/10 [==============================] - 5s 464ms/step - loss: 5.9832 - mae: 6.4449\n",
            "Epoch 79/100\n",
            "10/10 [==============================] - 5s 478ms/step - loss: 6.7493 - mae: 7.0291\n",
            "Epoch 80/100\n",
            "10/10 [==============================] - 5s 470ms/step - loss: 7.2008 - mae: 7.8480\n",
            "Epoch 81/100\n",
            "10/10 [==============================] - 5s 464ms/step - loss: 7.6765 - mae: 8.0563\n",
            "Epoch 82/100\n",
            "10/10 [==============================] - 5s 468ms/step - loss: 8.1566 - mae: 8.7763\n",
            "Epoch 83/100\n",
            "10/10 [==============================] - 5s 462ms/step - loss: 10.1987 - mae: 10.6358\n",
            "Epoch 84/100\n",
            "10/10 [==============================] - 5s 461ms/step - loss: 11.4191 - mae: 11.8802\n",
            "Epoch 85/100\n",
            "10/10 [==============================] - 5s 464ms/step - loss: 13.0636 - mae: 13.3777\n",
            "Epoch 86/100\n",
            "10/10 [==============================] - 5s 463ms/step - loss: 14.2516 - mae: 14.8388\n",
            "Epoch 87/100\n",
            "10/10 [==============================] - 5s 467ms/step - loss: 16.0197 - mae: 16.6252\n",
            "Epoch 88/100\n",
            "10/10 [==============================] - 5s 463ms/step - loss: 18.2206 - mae: 18.7729\n",
            "Epoch 89/100\n",
            "10/10 [==============================] - 5s 470ms/step - loss: 20.2850 - mae: 20.9329\n",
            "Epoch 90/100\n",
            "10/10 [==============================] - 5s 464ms/step - loss: 23.0418 - mae: 23.6135\n",
            "Epoch 91/100\n",
            "10/10 [==============================] - 5s 460ms/step - loss: 25.7321 - mae: 26.3832\n",
            "Epoch 92/100\n",
            "10/10 [==============================] - 5s 465ms/step - loss: 29.1215 - mae: 29.7083\n",
            "Epoch 93/100\n",
            "10/10 [==============================] - 5s 464ms/step - loss: 32.5429 - mae: 33.2434\n",
            "Epoch 94/100\n",
            "10/10 [==============================] - 5s 463ms/step - loss: 36.8116 - mae: 37.4477\n",
            "Epoch 95/100\n",
            "10/10 [==============================] - 5s 463ms/step - loss: 41.0646 - mae: 41.7948\n",
            "Epoch 96/100\n",
            "10/10 [==============================] - 5s 467ms/step - loss: 46.4073 - mae: 47.0868\n",
            "Epoch 97/100\n",
            "10/10 [==============================] - 5s 458ms/step - loss: 51.7685 - mae: 52.5540\n",
            "Epoch 98/100\n",
            "10/10 [==============================] - 5s 463ms/step - loss: 58.5648 - mae: 59.2877\n",
            "Epoch 99/100\n",
            "10/10 [==============================] - 5s 460ms/step - loss: 65.4089 - mae: 66.2521\n",
            "Epoch 100/100\n",
            "10/10 [==============================] - 5s 467ms/step - loss: 73.9034 - mae: 74.7259\n"
          ],
          "name": "stdout"
        }
      ]
    },
    {
      "cell_type": "code",
      "metadata": {
        "id": "vVcKmg7Q_7rD",
        "colab_type": "code",
        "outputId": "8760c919-7e79-4f20-8ca7-08943c2a6cb8",
        "colab": {
          "base_uri": "https://localhost:8080/",
          "height": 290
        }
      },
      "source": [
        "plt.semilogx(history.history[\"lr\"], history.history[\"loss\"])\n",
        "plt.axis([1e-8, 1e-4, 0, 60])"
      ],
      "execution_count": 55,
      "outputs": [
        {
          "output_type": "execute_result",
          "data": {
            "text/plain": [
              "[1e-08, 0.0001, 0, 60]"
            ]
          },
          "metadata": {
            "tags": []
          },
          "execution_count": 55
        },
        {
          "output_type": "display_data",
          "data": {
            "image/png": "[encoded data removed]",
            "text/plain": [
              "<Figure size 432x288 with 1 Axes>"
            ]
          },
          "metadata": {
            "tags": []
          }
        }
      ]
    },
    {
      "cell_type": "code",
      "metadata": {
        "id": "QsksvkcXAAgq",
        "colab_type": "code",
        "outputId": "32362cd8-c73c-404d-a665-98a3fac7cc5c",
        "colab": {
          "base_uri": "https://localhost:8080/",
          "height": 1000
        }
      },
      "source": [
        "tf.keras.backend.clear_session()\n",
        "tf.random.set_seed(51)\n",
        "np.random.seed(51)\n",
        "train_set = windowed_dataset(x_train, window_size=60, batch_size=100, shuffle_buffer=shuffle_buffer_size)\n",
        "model = tf.keras.models.Sequential([\n",
        "                                    tf.keras.layers.Conv1D(filters= 64, kernel_size= 5, strides=1, \n",
        "                                                           padding='causal',activation=\"relu\", input_shape=[None, 1]),\n",
        "                                    \n",
        "                                    tf.keras.layers.LSTM(60, return_sequences=True),\n",
        "                                    tf.keras.layers.LSTM(60, return_sequences=True),\n",
        "                                    tf.keras.layers.Dense(30, activation=\"relu\"),\n",
        "                                    tf.keras.layers.Dense(10, activation=\"relu\"),\n",
        "                                    tf.keras.layers.Dense(1),\n",
        "                                    tf.keras.layers.Lambda(lambda x: x * 400)])\n",
        "\n",
        "optimizer = tf.keras.optimizers.SGD(lr= 1e-5, momentum=0.9)\n",
        "model.compile(loss=tf.keras.losses.Huber(),\n",
        "              optimizer=optimizer,\n",
        "              metrics=[\"mae\"])\n",
        "history = model.fit(train_set,epochs=150)\n",
        "                                    \n",
        "# EXPECTED OUTPUT SHOULD SEE AN MAE OF <2 WITHIN ABOUT 30 EPOCHS"
      ],
      "execution_count": 56,
      "outputs": [
        {
          "output_type": "stream",
          "text": [
            "Epoch 1/150\n",
            "25/25 [==============================] - 8s 327ms/step - loss: 5.0979 - mae: 5.6375\n",
            "Epoch 2/150\n",
            "25/25 [==============================] - 5s 189ms/step - loss: 2.2425 - mae: 2.6983\n",
            "Epoch 3/150\n",
            "25/25 [==============================] - 5s 190ms/step - loss: 2.0245 - mae: 2.4785\n",
            "Epoch 4/150\n",
            "25/25 [==============================] - 5s 188ms/step - loss: 1.9427 - mae: 2.3969\n",
            "Epoch 5/150\n",
            "25/25 [==============================] - 5s 189ms/step - loss: 1.9203 - mae: 2.3728\n",
            "Epoch 6/150\n",
            "25/25 [==============================] - 5s 189ms/step - loss: 1.9092 - mae: 2.3626\n",
            "Epoch 7/150\n",
            "25/25 [==============================] - 5s 189ms/step - loss: 1.8974 - mae: 2.3505\n",
            "Epoch 8/150\n",
            "25/25 [==============================] - 5s 188ms/step - loss: 1.8883 - mae: 2.3400\n",
            "Epoch 9/150\n",
            "25/25 [==============================] - 5s 188ms/step - loss: 1.8812 - mae: 2.3318\n",
            "Epoch 10/150\n",
            "25/25 [==============================] - 5s 189ms/step - loss: 1.8728 - mae: 2.3248\n",
            "Epoch 11/150\n",
            "25/25 [==============================] - 5s 188ms/step - loss: 1.8647 - mae: 2.3164\n",
            "Epoch 12/150\n",
            "25/25 [==============================] - 5s 190ms/step - loss: 1.8571 - mae: 2.3093\n",
            "Epoch 13/150\n",
            "25/25 [==============================] - 5s 189ms/step - loss: 1.8482 - mae: 2.3002\n",
            "Epoch 14/150\n",
            "25/25 [==============================] - 5s 189ms/step - loss: 1.8402 - mae: 2.2923\n",
            "Epoch 15/150\n",
            "25/25 [==============================] - 5s 187ms/step - loss: 1.8356 - mae: 2.2866\n",
            "Epoch 16/150\n",
            "25/25 [==============================] - 5s 189ms/step - loss: 1.8258 - mae: 2.2784\n",
            "Epoch 17/150\n",
            "25/25 [==============================] - 5s 190ms/step - loss: 1.8183 - mae: 2.2695\n",
            "Epoch 18/150\n",
            "25/25 [==============================] - 5s 188ms/step - loss: 1.8156 - mae: 2.2651\n",
            "Epoch 19/150\n",
            "25/25 [==============================] - 5s 189ms/step - loss: 1.8086 - mae: 2.2580\n",
            "Epoch 20/150\n",
            "25/25 [==============================] - 5s 189ms/step - loss: 1.8029 - mae: 2.2532\n",
            "Epoch 21/150\n",
            "25/25 [==============================] - 5s 186ms/step - loss: 1.7969 - mae: 2.2479\n",
            "Epoch 22/150\n",
            "25/25 [==============================] - 5s 188ms/step - loss: 1.7914 - mae: 2.2413\n",
            "Epoch 23/150\n",
            "25/25 [==============================] - 5s 191ms/step - loss: 1.7870 - mae: 2.2372\n",
            "Epoch 24/150\n",
            "25/25 [==============================] - 5s 192ms/step - loss: 1.7845 - mae: 2.2351\n",
            "Epoch 25/150\n",
            "25/25 [==============================] - 5s 190ms/step - loss: 1.7817 - mae: 2.2306\n",
            "Epoch 26/150\n",
            "25/25 [==============================] - 5s 188ms/step - loss: 1.7737 - mae: 2.2238\n",
            "Epoch 27/150\n",
            "25/25 [==============================] - 5s 189ms/step - loss: 1.7711 - mae: 2.2200\n",
            "Epoch 28/150\n",
            "25/25 [==============================] - 5s 186ms/step - loss: 1.7671 - mae: 2.2178\n",
            "Epoch 29/150\n",
            "25/25 [==============================] - 5s 188ms/step - loss: 1.7621 - mae: 2.2111\n",
            "Epoch 30/150\n",
            "25/25 [==============================] - 5s 187ms/step - loss: 1.7577 - mae: 2.2062\n",
            "Epoch 31/150\n",
            "25/25 [==============================] - 5s 189ms/step - loss: 1.7525 - mae: 2.2015\n",
            "Epoch 32/150\n",
            "25/25 [==============================] - 5s 187ms/step - loss: 1.7471 - mae: 2.1966\n",
            "Epoch 33/150\n",
            "25/25 [==============================] - 5s 189ms/step - loss: 1.7428 - mae: 2.1925\n",
            "Epoch 34/150\n",
            "25/25 [==============================] - 5s 187ms/step - loss: 1.7394 - mae: 2.1871\n",
            "Epoch 35/150\n",
            "25/25 [==============================] - 5s 187ms/step - loss: 1.7342 - mae: 2.1825\n",
            "Epoch 36/150\n",
            "25/25 [==============================] - 5s 190ms/step - loss: 1.7302 - mae: 2.1777\n",
            "Epoch 37/150\n",
            "25/25 [==============================] - 5s 186ms/step - loss: 1.7273 - mae: 2.1743\n",
            "Epoch 38/150\n",
            "25/25 [==============================] - 5s 190ms/step - loss: 1.7211 - mae: 2.1690\n",
            "Epoch 39/150\n",
            "25/25 [==============================] - 5s 193ms/step - loss: 1.7159 - mae: 2.1651\n",
            "Epoch 40/150\n",
            "25/25 [==============================] - 5s 188ms/step - loss: 1.7124 - mae: 2.1600\n",
            "Epoch 41/150\n",
            "25/25 [==============================] - 5s 186ms/step - loss: 1.7062 - mae: 2.1541\n",
            "Epoch 42/150\n",
            "25/25 [==============================] - 5s 187ms/step - loss: 1.7027 - mae: 2.1500\n",
            "Epoch 43/150\n",
            "25/25 [==============================] - 5s 186ms/step - loss: 1.6962 - mae: 2.1439\n",
            "Epoch 44/150\n",
            "25/25 [==============================] - 5s 188ms/step - loss: 1.6916 - mae: 2.1391\n",
            "Epoch 45/150\n",
            "25/25 [==============================] - 5s 187ms/step - loss: 1.6874 - mae: 2.1352\n",
            "Epoch 46/150\n",
            "25/25 [==============================] - 5s 189ms/step - loss: 1.6826 - mae: 2.1290\n",
            "Epoch 47/150\n",
            "25/25 [==============================] - 5s 190ms/step - loss: 1.6787 - mae: 2.1255\n",
            "Epoch 48/150\n",
            "25/25 [==============================] - 5s 187ms/step - loss: 1.6733 - mae: 2.1201\n",
            "Epoch 49/150\n",
            "25/25 [==============================] - 5s 187ms/step - loss: 1.6709 - mae: 2.1178\n",
            "Epoch 50/150\n",
            "25/25 [==============================] - 5s 188ms/step - loss: 1.6680 - mae: 2.1143\n",
            "Epoch 51/150\n",
            "25/25 [==============================] - 5s 188ms/step - loss: 1.6635 - mae: 2.1094\n",
            "Epoch 52/150\n",
            "25/25 [==============================] - 5s 187ms/step - loss: 1.6625 - mae: 2.1089\n",
            "Epoch 53/150\n",
            "25/25 [==============================] - 5s 188ms/step - loss: 1.6594 - mae: 2.1056\n",
            "Epoch 54/150\n",
            "25/25 [==============================] - 5s 187ms/step - loss: 1.6545 - mae: 2.1011\n",
            "Epoch 55/150\n",
            "25/25 [==============================] - 5s 188ms/step - loss: 1.6482 - mae: 2.0956\n",
            "Epoch 56/150\n",
            "25/25 [==============================] - 5s 186ms/step - loss: 1.6425 - mae: 2.0895\n",
            "Epoch 57/150\n",
            "25/25 [==============================] - 5s 187ms/step - loss: 1.6393 - mae: 2.0852\n",
            "Epoch 58/150\n",
            "25/25 [==============================] - 5s 186ms/step - loss: 1.6365 - mae: 2.0816\n",
            "Epoch 59/150\n",
            "25/25 [==============================] - 5s 189ms/step - loss: 1.6331 - mae: 2.0790\n",
            "Epoch 60/150\n",
            "25/25 [==============================] - 5s 188ms/step - loss: 1.6306 - mae: 2.0753\n",
            "Epoch 61/150\n",
            "25/25 [==============================] - 5s 188ms/step - loss: 1.6249 - mae: 2.0722\n",
            "Epoch 62/150\n",
            "25/25 [==============================] - 5s 188ms/step - loss: 1.6241 - mae: 2.0705\n",
            "Epoch 63/150\n",
            "25/25 [==============================] - 5s 187ms/step - loss: 1.6208 - mae: 2.0671\n",
            "Epoch 64/150\n",
            "25/25 [==============================] - 5s 189ms/step - loss: 1.6192 - mae: 2.0638\n",
            "Epoch 65/150\n",
            "25/25 [==============================] - 5s 186ms/step - loss: 1.6166 - mae: 2.0630\n",
            "Epoch 66/150\n",
            "25/25 [==============================] - 5s 189ms/step - loss: 1.6150 - mae: 2.0602\n",
            "Epoch 67/150\n",
            "25/25 [==============================] - 5s 187ms/step - loss: 1.6112 - mae: 2.0580\n",
            "Epoch 68/150\n",
            "25/25 [==============================] - 5s 188ms/step - loss: 1.6112 - mae: 2.0575\n",
            "Epoch 69/150\n",
            "25/25 [==============================] - 5s 186ms/step - loss: 1.6078 - mae: 2.0535\n",
            "Epoch 70/150\n",
            "25/25 [==============================] - 5s 187ms/step - loss: 1.6093 - mae: 2.0533\n",
            "Epoch 71/150\n",
            "25/25 [==============================] - 5s 188ms/step - loss: 1.6048 - mae: 2.0500\n",
            "Epoch 72/150\n",
            "25/25 [==============================] - 5s 187ms/step - loss: 1.6051 - mae: 2.0498\n",
            "Epoch 73/150\n",
            "25/25 [==============================] - 5s 187ms/step - loss: 1.6012 - mae: 2.0480\n",
            "Epoch 74/150\n",
            "25/25 [==============================] - 5s 185ms/step - loss: 1.5999 - mae: 2.0446\n",
            "Epoch 75/150\n",
            "25/25 [==============================] - 5s 186ms/step - loss: 1.5978 - mae: 2.0442\n",
            "Epoch 76/150\n",
            "25/25 [==============================] - 5s 187ms/step - loss: 1.5990 - mae: 2.0436\n",
            "Epoch 77/150\n",
            "25/25 [==============================] - 5s 187ms/step - loss: 1.5951 - mae: 2.0410\n",
            "Epoch 78/150\n",
            "25/25 [==============================] - 5s 186ms/step - loss: 1.5928 - mae: 2.0380\n",
            "Epoch 79/150\n",
            "25/25 [==============================] - 5s 185ms/step - loss: 1.5928 - mae: 2.0377\n",
            "Epoch 80/150\n",
            "25/25 [==============================] - 5s 186ms/step - loss: 1.5906 - mae: 2.0353\n",
            "Epoch 81/150\n",
            "25/25 [==============================] - 5s 184ms/step - loss: 1.5873 - mae: 2.0330\n",
            "Epoch 82/150\n",
            "25/25 [==============================] - 5s 187ms/step - loss: 1.5865 - mae: 2.0311\n",
            "Epoch 83/150\n",
            "25/25 [==============================] - 5s 186ms/step - loss: 1.5855 - mae: 2.0293\n",
            "Epoch 84/150\n",
            "25/25 [==============================] - 5s 190ms/step - loss: 1.5811 - mae: 2.0253\n",
            "Epoch 85/150\n",
            "25/25 [==============================] - 5s 184ms/step - loss: 1.5812 - mae: 2.0241\n",
            "Epoch 86/150\n",
            "25/25 [==============================] - 5s 186ms/step - loss: 1.5781 - mae: 2.0222\n",
            "Epoch 87/150\n",
            "25/25 [==============================] - 5s 184ms/step - loss: 1.5769 - mae: 2.0209\n",
            "Epoch 88/150\n",
            "25/25 [==============================] - 5s 187ms/step - loss: 1.5754 - mae: 2.0195\n",
            "Epoch 89/150\n",
            "25/25 [==============================] - 5s 189ms/step - loss: 1.5760 - mae: 2.0188\n",
            "Epoch 90/150\n",
            "25/25 [==============================] - 5s 191ms/step - loss: 1.5742 - mae: 2.0190\n",
            "Epoch 91/150\n",
            "25/25 [==============================] - 5s 186ms/step - loss: 1.5712 - mae: 2.0143\n",
            "Epoch 92/150\n",
            "25/25 [==============================] - 5s 186ms/step - loss: 1.5703 - mae: 2.0134\n",
            "Epoch 93/150\n",
            "25/25 [==============================] - 5s 185ms/step - loss: 1.5691 - mae: 2.0125\n",
            "Epoch 94/150\n",
            "25/25 [==============================] - 5s 185ms/step - loss: 1.5671 - mae: 2.0111\n",
            "Epoch 95/150\n",
            "25/25 [==============================] - 5s 187ms/step - loss: 1.5671 - mae: 2.0105\n",
            "Epoch 96/150\n",
            "25/25 [==============================] - 5s 184ms/step - loss: 1.5658 - mae: 2.0085\n",
            "Epoch 97/150\n",
            "25/25 [==============================] - 5s 187ms/step - loss: 1.5648 - mae: 2.0063\n",
            "Epoch 98/150\n",
            "25/25 [==============================] - 5s 184ms/step - loss: 1.5613 - mae: 2.0040\n",
            "Epoch 99/150\n",
            "25/25 [==============================] - 5s 188ms/step - loss: 1.5581 - mae: 2.0006\n",
            "Epoch 100/150\n",
            "25/25 [==============================] - 5s 185ms/step - loss: 1.5569 - mae: 1.9996\n",
            "Epoch 101/150\n",
            "25/25 [==============================] - 5s 186ms/step - loss: 1.5533 - mae: 1.9949\n",
            "Epoch 102/150\n",
            "25/25 [==============================] - 5s 185ms/step - loss: 1.5515 - mae: 1.9941\n",
            "Epoch 103/150\n",
            "25/25 [==============================] - 5s 185ms/step - loss: 1.5509 - mae: 1.9930\n",
            "Epoch 104/150\n",
            "25/25 [==============================] - 5s 188ms/step - loss: 1.5475 - mae: 1.9894\n",
            "Epoch 105/150\n",
            "25/25 [==============================] - 5s 187ms/step - loss: 1.5481 - mae: 1.9899\n",
            "Epoch 106/150\n",
            "25/25 [==============================] - 5s 183ms/step - loss: 1.5420 - mae: 1.9840\n",
            "Epoch 107/150\n",
            "25/25 [==============================] - 5s 185ms/step - loss: 1.5402 - mae: 1.9825\n",
            "Epoch 108/150\n",
            "25/25 [==============================] - 5s 187ms/step - loss: 1.5383 - mae: 1.9800\n",
            "Epoch 109/150\n",
            "25/25 [==============================] - 5s 186ms/step - loss: 1.5361 - mae: 1.9789\n",
            "Epoch 110/150\n",
            "25/25 [==============================] - 5s 186ms/step - loss: 1.5338 - mae: 1.9750\n",
            "Epoch 111/150\n",
            "25/25 [==============================] - 5s 184ms/step - loss: 1.5343 - mae: 1.9752\n",
            "Epoch 112/150\n",
            "25/25 [==============================] - 5s 186ms/step - loss: 1.5314 - mae: 1.9718\n",
            "Epoch 113/150\n",
            "25/25 [==============================] - 5s 184ms/step - loss: 1.5285 - mae: 1.9694\n",
            "Epoch 114/150\n",
            "25/25 [==============================] - 5s 185ms/step - loss: 1.5294 - mae: 1.9707\n",
            "Epoch 115/150\n",
            "25/25 [==============================] - 5s 186ms/step - loss: 1.5267 - mae: 1.9669\n",
            "Epoch 116/150\n",
            "25/25 [==============================] - 5s 188ms/step - loss: 1.5255 - mae: 1.9648\n",
            "Epoch 117/150\n",
            "25/25 [==============================] - 5s 183ms/step - loss: 1.5232 - mae: 1.9643\n",
            "Epoch 118/150\n",
            "25/25 [==============================] - 5s 185ms/step - loss: 1.5245 - mae: 1.9671\n",
            "Epoch 119/150\n",
            "25/25 [==============================] - 5s 186ms/step - loss: 1.5218 - mae: 1.9622\n",
            "Epoch 120/150\n",
            "25/25 [==============================] - 5s 184ms/step - loss: 1.5193 - mae: 1.9598\n",
            "Epoch 121/150\n",
            "25/25 [==============================] - 5s 183ms/step - loss: 1.5149 - mae: 1.9550\n",
            "Epoch 122/150\n",
            "25/25 [==============================] - 5s 185ms/step - loss: 1.5117 - mae: 1.9521\n",
            "Epoch 123/150\n",
            "25/25 [==============================] - 5s 187ms/step - loss: 1.5130 - mae: 1.9533\n",
            "Epoch 124/150\n",
            "25/25 [==============================] - 5s 186ms/step - loss: 1.5086 - mae: 1.9486\n",
            "Epoch 125/150\n",
            "25/25 [==============================] - 5s 184ms/step - loss: 1.5091 - mae: 1.9481\n",
            "Epoch 126/150\n",
            "25/25 [==============================] - 5s 186ms/step - loss: 1.5057 - mae: 1.9454\n",
            "Epoch 127/150\n",
            "25/25 [==============================] - 5s 186ms/step - loss: 1.5080 - mae: 1.9473\n",
            "Epoch 128/150\n",
            "25/25 [==============================] - 5s 187ms/step - loss: 1.5043 - mae: 1.9431\n",
            "Epoch 129/150\n",
            "25/25 [==============================] - 5s 184ms/step - loss: 1.5087 - mae: 1.9490\n",
            "Epoch 130/150\n",
            "25/25 [==============================] - 5s 185ms/step - loss: 1.5012 - mae: 1.9415\n",
            "Epoch 131/150\n",
            "25/25 [==============================] - 5s 186ms/step - loss: 1.4992 - mae: 1.9384\n",
            "Epoch 132/150\n",
            "25/25 [==============================] - 5s 186ms/step - loss: 1.4996 - mae: 1.9386\n",
            "Epoch 133/150\n",
            "25/25 [==============================] - 5s 188ms/step - loss: 1.5010 - mae: 1.9393\n",
            "Epoch 134/150\n",
            "25/25 [==============================] - 5s 184ms/step - loss: 1.4982 - mae: 1.9364\n",
            "Epoch 135/150\n",
            "25/25 [==============================] - 5s 186ms/step - loss: 1.4958 - mae: 1.9342\n",
            "Epoch 136/150\n",
            "25/25 [==============================] - 5s 185ms/step - loss: 1.4953 - mae: 1.9349\n",
            "Epoch 137/150\n",
            "25/25 [==============================] - 5s 183ms/step - loss: 1.4935 - mae: 1.9320\n",
            "Epoch 138/150\n",
            "25/25 [==============================] - 5s 185ms/step - loss: 1.4939 - mae: 1.9326\n",
            "Epoch 139/150\n",
            "25/25 [==============================] - 5s 186ms/step - loss: 1.4926 - mae: 1.9309\n",
            "Epoch 140/150\n",
            "25/25 [==============================] - 5s 184ms/step - loss: 1.4944 - mae: 1.9315\n",
            "Epoch 141/150\n",
            "25/25 [==============================] - 5s 185ms/step - loss: 1.4937 - mae: 1.9320\n",
            "Epoch 142/150\n",
            "25/25 [==============================] - 5s 184ms/step - loss: 1.4900 - mae: 1.9292\n",
            "Epoch 143/150\n",
            "25/25 [==============================] - 5s 186ms/step - loss: 1.4899 - mae: 1.9295\n",
            "Epoch 144/150\n",
            "25/25 [==============================] - 5s 185ms/step - loss: 1.4888 - mae: 1.9276\n",
            "Epoch 145/150\n",
            "25/25 [==============================] - 5s 185ms/step - loss: 1.4914 - mae: 1.9304\n",
            "Epoch 146/150\n",
            "25/25 [==============================] - 5s 185ms/step - loss: 1.4889 - mae: 1.9282\n",
            "Epoch 147/150\n",
            "25/25 [==============================] - 5s 182ms/step - loss: 1.4916 - mae: 1.9311\n",
            "Epoch 148/150\n",
            "25/25 [==============================] - 5s 185ms/step - loss: 1.4850 - mae: 1.9237\n",
            "Epoch 149/150\n",
            "25/25 [==============================] - 5s 186ms/step - loss: 1.4878 - mae: 1.9259\n",
            "Epoch 150/150\n",
            "25/25 [==============================] - 5s 185ms/step - loss: 1.4867 - mae: 1.9263\n"
          ],
          "name": "stdout"
        }
      ]
    },
    {
      "cell_type": "code",
      "metadata": {
        "id": "GaC6NNMRp0lb",
        "colab_type": "code",
        "colab": {}
      },
      "source": [
        "rnn_forecast = model_forecast(model, series[..., np.newaxis], window_size)\n",
        "rnn_forecast = rnn_forecast[split_time - window_size:-1, -1, 0]"
      ],
      "execution_count": 0,
      "outputs": []
    },
    {
      "cell_type": "code",
      "metadata": {
        "colab_type": "code",
        "id": "izy6wl2S9d-2",
        "colab": {
          "base_uri": "https://localhost:8080/",
          "height": 392
        },
        "outputId": "5fd1c94f-2087-4613-a734-9c4af8696843"
      },
      "source": [
        "plt.figure(figsize=(10, 6))\n",
        "plot_series(time_valid, x_valid)\n",
        "plot_series(time_valid, rnn_forecast)\n",
        "\n",
        "# EXPECTED OUTPUT. PLOT SHOULD SHOW PROJECTIONS FOLLOWING ORIGINAL DATA CLOSELY"
      ],
      "execution_count": 58,
      "outputs": [
        {
          "output_type": "display_data",
          "data": {
            "image/png": "[encoded data removed]",
            "text/plain": [
              "<Figure size 720x432 with 1 Axes>"
            ]
          },
          "metadata": {
            "tags": []
          }
        }
      ]
    },
    {
      "cell_type": "code",
      "metadata": {
        "id": "13XrorC5wQoE",
        "colab_type": "code",
        "outputId": "9c07a4ea-502c-41bb-d963-28879419d983",
        "colab": {
          "base_uri": "https://localhost:8080/",
          "height": 34
        }
      },
      "source": [
        "tf.keras.metrics.mean_absolute_error(x_valid, rnn_forecast).numpy()\n",
        "\n",
        "# EXPECTED OUTPUT MAE < 2 -- I GOT 1.789626"
      ],
      "execution_count": 59,
      "outputs": [
        {
          "output_type": "execute_result",
          "data": {
            "text/plain": [
              "1.804681"
            ]
          },
          "metadata": {
            "tags": []
          },
          "execution_count": 59
        }
      ]
    },
    {
      "cell_type": "code",
      "metadata": {
        "id": "AOVzQXxCwkzP",
        "colab_type": "code",
        "outputId": "ff8cc5b5-3e73-41d1-aaa1-1109de5370e0",
        "colab": {
          "base_uri": "https://localhost:8080/",
          "height": 34
        }
      },
      "source": [
        "print(rnn_forecast)\n",
        "# EXPECTED OUTPUT -- ARRAY OF VALUES IN THE LOW TEENS"
      ],
      "execution_count": 60,
      "outputs": [
        {
          "output_type": "stream",
          "text": [
            "[11.850505 12.042244 13.040243 ... 13.931889 13.870489 14.670452]\n"
          ],
          "name": "stdout"
        }
      ]
    }
  ]
}